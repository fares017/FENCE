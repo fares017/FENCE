{
 "cells": [
  {
   "cell_type": "code",
   "execution_count": 1,
   "id": "5d3a7739",
   "metadata": {},
   "outputs": [],
   "source": [
    "import math\n",
    "import random\n",
    "\n",
    "import numpy as np\n",
    "\n",
    "import tensorflow as tf\n",
    "from tensorflow.random import set_seed\n",
    "from tensorflow.keras.losses import BinaryCrossentropy\n",
    "\n",
    "\n",
    "from fence.duration_tf2 import update_max_min_duration\n",
    "from fence.bytes_tf2 import update_max_min_bytes, update_bytes\n",
    "from fence.neris_model_data_utilities import MDModel,  sigmoid,  get_raw_delta\n",
    "\n",
    "np.set_printoptions(precision = 5)\n",
    "np.set_printoptions(suppress = True) \n"
   ]
  },
  {
   "cell_type": "code",
   "execution_count": null,
   "id": "4066c6a8",
   "metadata": {},
   "outputs": [],
   "source": [
    "class Neris_attack():\n",
    "\n",
    "    def __init__(self, model_path,  iterations, distance, scaler, mins, maxs):\n",
    "\n",
    "\n",
    "        #features that can be updated\n",
    "        self.UPDATE = np.array([0,1,2,3, 4, 5, 12, 13, 14, 9, 10, 11, 15, 16, 17])\n",
    "        \n",
    "        #Families: Duration','Packets', 'Total_Bytes', 'Source_Bytes' \n",
    "        self.FAMILIES = np.array([[0,7,8,9]])\n",
    "        \n",
    "        #Integer features\n",
    "        self.integers = np.array([0,2,4,5,6,7,8,9,10,11,12,13,14])\n",
    "        \n",
    "        #Number of attack iterations\n",
    "        self.NUM_ITERATIONS = 100\n",
    "        \n",
    "        #Ports that can not have TCP or UDP connections\n",
    "        self.PORTS_NO_UDP = [0, 4, 5, 6, 8, 9, 14, 16]\n",
    "        self.PORTS_NO_TCP = [10, 12, 13]\n",
    "\n",
    "        SCALER_PATH = 'scaler_scenarios19.pkl'\n",
    "        \n",
    "        ATTACK_PATH = '../data/neris/vectorized_test_data.csv'\n",
    "        self.MODEL_PATH = 'model_whole_scenarios19'"
   ]
  }
 ],
 "metadata": {
  "kernelspec": {
   "display_name": "FP_env",
   "language": "python",
   "name": "fp_env"
  },
  "language_info": {
   "codemirror_mode": {
    "name": "ipython",
    "version": 3
   },
   "file_extension": ".py",
   "mimetype": "text/x-python",
   "name": "python",
   "nbconvert_exporter": "python",
   "pygments_lexer": "ipython3",
   "version": "3.10.13"
  }
 },
 "nbformat": 4,
 "nbformat_minor": 5
}
