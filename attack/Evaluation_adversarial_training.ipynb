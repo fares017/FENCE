{
 "cells": [
  {
   "cell_type": "code",
   "execution_count": 30,
   "id": "db7b04ae",
   "metadata": {},
   "outputs": [
    {
     "data": {
      "text/plain": [
       "'\\nset_seed(2)\\nfrom numpy.random import seed\\nseed(2)\\n'"
      ]
     },
     "execution_count": 30,
     "metadata": {},
     "output_type": "execute_result"
    }
   ],
   "source": [
    "import os\n",
    "os.environ[\"CUDA_VISIBLE_DEVICES\"] = \"-1\"\n",
    "import sys\n",
    "sys.path.append('..')\n",
    "import time\n",
    "import joblib\n",
    "from datetime import datetime\n",
    "import numpy as np\n",
    "import tensorflow as tf\n",
    "from tensorflow.keras.models import load_model\n",
    "from fence.neris_attack_tf2 import Neris_attack\n",
    "from training.helpers import  read_min_max\n",
    "from tensorflow.random import set_seed\n",
    "\"\"\"\n",
    "set_seed(2)\n",
    "from numpy.random import seed\n",
    "seed(2)\n",
    "\"\"\"\n",
    "\n"
   ]
  },
  {
   "cell_type": "code",
   "execution_count": 31,
   "id": "a16102f2",
   "metadata": {},
   "outputs": [],
   "source": [
    "import random\n",
    "np.random.seed(500)\n",
    "\n",
    "\n",
    "import warnings\n",
    "warnings.filterwarnings('ignore')\n",
    "\n",
    "\n"
   ]
  },
  {
   "cell_type": "code",
   "execution_count": 32,
   "id": "c373d696",
   "metadata": {},
   "outputs": [],
   "source": [
    "def attack(method, model_path, samples_path, labels_path, distance, iterations, mask_idx, eq_min_max, only_botnet=True): \n",
    "    samples = np.load(samples_path)\n",
    "    labels = np.load(labels_path)\n",
    "    if only_botnet:\n",
    "        idx = np.where(labels==1)[0][:407]\n",
    "        labels = labels[idx]\n",
    "        samples = samples[idx]\n",
    "    model = load_model(model_path)\n",
    "\n",
    "    if method == \"neris\":\n",
    "        perturbSamples = []\n",
    "        attack_generator = Neris_attack(model_path = model_path, iterations=iterations, distance=distance, scaler=scaler, mins=min_features, maxs=max_features)\n",
    "        for i in range(samples.shape[0]):\n",
    "            if (i % 1000)==0:\n",
    "                print(\"Attack \", i)\n",
    "            sample = samples[i]\n",
    "            sample = np.expand_dims(sample, axis=0)\n",
    "            label = labels[i]\n",
    "            adversary = attack_generator.run_attack(sample,label)\n",
    "            perturbSamples.append(adversary)\n",
    "        perturbSamples = np.squeeze(np.array(perturbSamples))\n",
    "\n",
    "    probas = np.squeeze(model.predict(perturbSamples))\n",
    "    predictions = np.squeeze((probas>= 0.5).astype(int))\n",
    "    adv_idx = np.squeeze(np.argwhere(predictions == 0))\n",
    "    success_rate = np.count_nonzero(predictions == 0)/predictions.shape[0]*100\n",
    "    return perturbSamples, success_rate\n",
    "\n",
    "\n"
   ]
  },
  {
   "cell_type": "raw",
   "id": "4e2f1f7b",
   "metadata": {},
   "source": []
  },
  {
   "cell_type": "markdown",
   "id": "64427d9f",
   "metadata": {},
   "source": [
    "# Testing the Adversarial training"
   ]
  },
  {
   "cell_type": "code",
   "execution_count": 33,
   "id": "c2ee99e2",
   "metadata": {},
   "outputs": [
    {
     "name": "stdout",
     "output_type": "stream",
     "text": [
      "Attack  0\n",
      "13/13 [==============================] - 0s 3ms/step\n",
      "Duration: 0:20:35.861478\n",
      "Success rate 5.896805896805897\n"
     ]
    }
   ],
   "source": [
    "if __name__ == \"__main__\":\n",
    "\n",
    "    scaler = joblib.load('../data/neris/scaler.pkl')\n",
    "    min_features, max_features = read_min_max('../data/neris/minimum.txt', '../data/neris/maximum.txt')\n",
    "    mask_idx = np.load('../data/neris/mutable_idx.npy')\n",
    "    eq_min_max = np.load('../data/neris/eq_min_max_idx.npy')\n",
    "    start_time = datetime.now()\n",
    "    perturbed_samples, success_rate_12 = attack('neris',  '../out/neris/clean_10epochs/ADV_model.h5', '../data/neris/testing_samples.npy', '../data/neris/testing_labels.npy', distance=16, iterations=100, mask_idx=mask_idx, eq_min_max=eq_min_max)\n",
    "    #np.save(\"perturbations_neris_all_nerisds_trainset.npy\", perturbed_samples)\n",
    "    end_time = datetime.now()\n",
    "    print('Duration: {}'.format(end_time - start_time))\n",
    "    print(\"Success rate\", success_rate_12)\n"
   ]
  },
  {
   "cell_type": "code",
   "execution_count": null,
   "id": "1c11c1b3",
   "metadata": {},
   "outputs": [],
   "source": []
  },
  {
   "cell_type": "code",
   "execution_count": null,
   "id": "2e336384",
   "metadata": {},
   "outputs": [],
   "source": []
  }
 ],
 "metadata": {
  "kernelspec": {
   "display_name": "FP_env",
   "language": "python",
   "name": "fp_env"
  },
  "language_info": {
   "codemirror_mode": {
    "name": "ipython",
    "version": 3
   },
   "file_extension": ".py",
   "mimetype": "text/x-python",
   "name": "python",
   "nbconvert_exporter": "python",
   "pygments_lexer": "ipython3",
   "version": "3.10.13"
  }
 },
 "nbformat": 4,
 "nbformat_minor": 5
}
